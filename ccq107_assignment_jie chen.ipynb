{
 "cells": [
  {
   "cell_type": "markdown",
   "metadata": {
    "extensions": {
     "jupyter_dashboards": {
      "version": 1,
      "views": {
       "grid_default": {},
       "report_default": {}
      }
     }
    }
   },
   "source": [
    "# Assessment 2 - Juypter Notebook template"
   ]
  },
  {
   "cell_type": "markdown",
   "metadata": {
    "extensions": {
     "jupyter_dashboards": {
      "version": 1,
      "views": {
       "grid_default": {},
       "report_default": {}
      }
     }
    }
   },
   "source": [
    "Hi there! It's Shilpa here from the analytics team.\n",
    "\n",
    "I've gone ahead and put together this Jupyter Notebook template for you to work on.\n",
    "\n",
    "It contains all the key questions we want to answer to address our client's needs.\n",
    "\n",
    "The manager advised that you've been briefed on this project already, so your job now is to ‘fill in the blanks’ by implementing Python code to address the tasks and answer the questions in the Markdown below, as well as explaining what you are doing and discussing the results (by annotating the Notebook using Markdown cells).\n",
    "\n",
    "We have already collected a dataset, which you have been provided (`Australia_Client_Tweets.csv`). Please use this dataset for your analysis.\n",
    "\n",
    "Obviously, you will want to include more cells (both code and markdown) in the Notebook, but this provides a starting point. You may even want to reorganise the existing cells as you see fit.\n",
    "\n",
    "Good luck and I look forward to seeing your code and results."
   ]
  },
  {
   "cell_type": "markdown",
   "metadata": {
    "extensions": {
     "jupyter_dashboards": {
      "version": 1,
      "views": {
       "grid_default": {},
       "report_default": {}
      }
     }
    }
   },
   "source": [
    "### 2. Importing CSV data into Python (Input Stage)\n",
    "\n",
    "First, import the CSV data from the file `Australia_Client_Tweets.csv`."
   ]
  },
  {
   "cell_type": "code",
   "execution_count": 475,
   "metadata": {
    "extensions": {
     "jupyter_dashboards": {
      "version": 1,
      "views": {
       "grid_default": {},
       "report_default": {}
      }
     }
    }
   },
   "outputs": [],
   "source": [
    "# import libraries\n",
    "import pandas as pd\n",
    "\n",
    "import numpy as np\n",
    "import matplotlib.mlab as mlab\n",
    "import matplotlib.pyplot as plt\n",
    "import seaborn as sns\n",
    "\n",
    "# import data\n",
    "data=pd.read_csv('/Users/jiechen/Desktop/CCQ107/assignment/Australia_Client_Tweets.csv',index_col=0)"
   ]
  },
  {
   "cell_type": "markdown",
   "metadata": {
    "extensions": {
     "jupyter_dashboards": {
      "version": 1,
      "views": {
       "grid_default": {},
       "report_default": {}
      }
     }
    }
   },
   "source": [
    "#### Q1: How many tweets does our data contain, i.e., number of rows in the dataset?"
   ]
  },
  {
   "cell_type": "code",
   "execution_count": 476,
   "metadata": {
    "extensions": {
     "jupyter_dashboards": {
      "version": 1,
      "views": {
       "grid_default": {},
       "report_default": {}
      }
     }
    },
    "scrolled": true
   },
   "outputs": [
    {
     "name": "stdout",
     "output_type": "stream",
     "text": [
      "<class 'pandas.core.frame.DataFrame'>\n",
      "RangeIndex: 17967 entries, 0 to 17966\n",
      "Data columns (total 25 columns):\n",
      " #   Column             Non-Null Count  Dtype  \n",
      "---  ------             --------------  -----  \n",
      " 0   id                 17967 non-null  int64  \n",
      " 1   conversation_id    17967 non-null  int64  \n",
      " 2   created_at         17967 non-null  int64  \n",
      " 3   date               17967 non-null  object \n",
      " 4   time               17967 non-null  object \n",
      " 5   timezone           17967 non-null  object \n",
      " 6   user_id            17967 non-null  int64  \n",
      " 7   username           17967 non-null  object \n",
      " 8   name               17967 non-null  object \n",
      " 9   place              57 non-null     object \n",
      " 10  tweet              17967 non-null  object \n",
      " 11  mentions           17949 non-null  object \n",
      " 12  urls               17967 non-null  object \n",
      " 13  photos             17967 non-null  object \n",
      " 14  replies_count      17967 non-null  int64  \n",
      " 15  retweets_count     17967 non-null  int64  \n",
      " 16  likes_count        17967 non-null  int64  \n",
      " 17  location           0 non-null      float64\n",
      " 18  hashtags           17967 non-null  object \n",
      " 19  cashtags           17967 non-null  object \n",
      " 20  link               17967 non-null  object \n",
      " 21  retweet            0 non-null      float64\n",
      " 22  quote_url          887 non-null    object \n",
      " 23  video              17967 non-null  int64  \n",
      " 24  profile_image_url  17967 non-null  object \n",
      "dtypes: float64(2), int64(8), object(15)\n",
      "memory usage: 3.4+ MB\n"
     ]
    }
   ],
   "source": [
    "data.info()"
   ]
  },
  {
   "cell_type": "code",
   "execution_count": 477,
   "metadata": {
    "scrolled": false
   },
   "outputs": [
    {
     "data": {
      "text/html": [
       "<div>\n",
       "<style scoped>\n",
       "    .dataframe tbody tr th:only-of-type {\n",
       "        vertical-align: middle;\n",
       "    }\n",
       "\n",
       "    .dataframe tbody tr th {\n",
       "        vertical-align: top;\n",
       "    }\n",
       "\n",
       "    .dataframe thead th {\n",
       "        text-align: right;\n",
       "    }\n",
       "</style>\n",
       "<table border=\"1\" class=\"dataframe\">\n",
       "  <thead>\n",
       "    <tr style=\"text-align: right;\">\n",
       "      <th></th>\n",
       "      <th>id</th>\n",
       "      <th>conversation_id</th>\n",
       "      <th>created_at</th>\n",
       "      <th>date</th>\n",
       "      <th>time</th>\n",
       "      <th>timezone</th>\n",
       "      <th>user_id</th>\n",
       "      <th>username</th>\n",
       "      <th>name</th>\n",
       "      <th>place</th>\n",
       "      <th>...</th>\n",
       "      <th>retweets_count</th>\n",
       "      <th>likes_count</th>\n",
       "      <th>location</th>\n",
       "      <th>hashtags</th>\n",
       "      <th>cashtags</th>\n",
       "      <th>link</th>\n",
       "      <th>retweet</th>\n",
       "      <th>quote_url</th>\n",
       "      <th>video</th>\n",
       "      <th>profile_image_url</th>\n",
       "    </tr>\n",
       "  </thead>\n",
       "  <tbody>\n",
       "    <tr>\n",
       "      <th>0</th>\n",
       "      <td>1131417190240903168</td>\n",
       "      <td>1131152781136547840</td>\n",
       "      <td>1558585853000</td>\n",
       "      <td>2019-05-23</td>\n",
       "      <td>14:30:53</td>\n",
       "      <td>AEST</td>\n",
       "      <td>991608430258339840</td>\n",
       "      <td>preqcricket</td>\n",
       "      <td>Prequel</td>\n",
       "      <td>NaN</td>\n",
       "      <td>...</td>\n",
       "      <td>0</td>\n",
       "      <td>0</td>\n",
       "      <td>NaN</td>\n",
       "      <td>[]</td>\n",
       "      <td>[]</td>\n",
       "      <td>https://twitter.com/PreqCricket/status/1131417...</td>\n",
       "      <td>NaN</td>\n",
       "      <td>NaN</td>\n",
       "      <td>0</td>\n",
       "      <td>https://pbs.twimg.com/profile_images/101373811...</td>\n",
       "    </tr>\n",
       "    <tr>\n",
       "      <th>1</th>\n",
       "      <td>1131408404465954817</td>\n",
       "      <td>1131408404465954817</td>\n",
       "      <td>1558583758000</td>\n",
       "      <td>2019-05-23</td>\n",
       "      <td>13:55:58</td>\n",
       "      <td>AEST</td>\n",
       "      <td>1083685422222401536</td>\n",
       "      <td>nichinichisou1</td>\n",
       "      <td>nichinichisou</td>\n",
       "      <td>NaN</td>\n",
       "      <td>...</td>\n",
       "      <td>0</td>\n",
       "      <td>0</td>\n",
       "      <td>NaN</td>\n",
       "      <td>['#presidentscup']</td>\n",
       "      <td>[]</td>\n",
       "      <td>https://twitter.com/nichinichisou1/status/1131...</td>\n",
       "      <td>NaN</td>\n",
       "      <td>https://twitter.com/PresidentsCup/status/11312...</td>\n",
       "      <td>0</td>\n",
       "      <td>https://pbs.twimg.com/profile_images/110856177...</td>\n",
       "    </tr>\n",
       "    <tr>\n",
       "      <th>2</th>\n",
       "      <td>1131403570182467584</td>\n",
       "      <td>1131152781136547840</td>\n",
       "      <td>1558582606000</td>\n",
       "      <td>2019-05-23</td>\n",
       "      <td>13:36:46</td>\n",
       "      <td>AEST</td>\n",
       "      <td>1127520860468736001</td>\n",
       "      <td>farah72415842</td>\n",
       "      <td>Farah</td>\n",
       "      <td>NaN</td>\n",
       "      <td>...</td>\n",
       "      <td>0</td>\n",
       "      <td>1</td>\n",
       "      <td>NaN</td>\n",
       "      <td>[]</td>\n",
       "      <td>[]</td>\n",
       "      <td>https://twitter.com/Farah72415842/status/11314...</td>\n",
       "      <td>NaN</td>\n",
       "      <td>NaN</td>\n",
       "      <td>0</td>\n",
       "      <td>https://abs.twimg.com/sticky/default_profile_i...</td>\n",
       "    </tr>\n",
       "    <tr>\n",
       "      <th>3</th>\n",
       "      <td>1131403417669312512</td>\n",
       "      <td>1131152781136547840</td>\n",
       "      <td>1558582569000</td>\n",
       "      <td>2019-05-23</td>\n",
       "      <td>13:36:09</td>\n",
       "      <td>AEST</td>\n",
       "      <td>962901643212869633</td>\n",
       "      <td>tracies89139325</td>\n",
       "      <td>Tracie Stewart</td>\n",
       "      <td>NaN</td>\n",
       "      <td>...</td>\n",
       "      <td>0</td>\n",
       "      <td>1</td>\n",
       "      <td>NaN</td>\n",
       "      <td>[]</td>\n",
       "      <td>[]</td>\n",
       "      <td>https://twitter.com/TracieS89139325/status/113...</td>\n",
       "      <td>NaN</td>\n",
       "      <td>NaN</td>\n",
       "      <td>0</td>\n",
       "      <td>https://pbs.twimg.com/profile_images/966175467...</td>\n",
       "    </tr>\n",
       "    <tr>\n",
       "      <th>4</th>\n",
       "      <td>1131403211288375297</td>\n",
       "      <td>1131152781136547840</td>\n",
       "      <td>1558582520000</td>\n",
       "      <td>2019-05-23</td>\n",
       "      <td>13:35:20</td>\n",
       "      <td>AEST</td>\n",
       "      <td>742181204443570177</td>\n",
       "      <td>addieperle1</td>\n",
       "      <td>Addie</td>\n",
       "      <td>NaN</td>\n",
       "      <td>...</td>\n",
       "      <td>0</td>\n",
       "      <td>2</td>\n",
       "      <td>NaN</td>\n",
       "      <td>[]</td>\n",
       "      <td>[]</td>\n",
       "      <td>https://twitter.com/addieperle1/status/1131403...</td>\n",
       "      <td>NaN</td>\n",
       "      <td>NaN</td>\n",
       "      <td>0</td>\n",
       "      <td>https://pbs.twimg.com/profile_images/111876996...</td>\n",
       "    </tr>\n",
       "  </tbody>\n",
       "</table>\n",
       "<p>5 rows × 25 columns</p>\n",
       "</div>"
      ],
      "text/plain": [
       "                    id      conversation_id     created_at        date  \\\n",
       "0  1131417190240903168  1131152781136547840  1558585853000  2019-05-23   \n",
       "1  1131408404465954817  1131408404465954817  1558583758000  2019-05-23   \n",
       "2  1131403570182467584  1131152781136547840  1558582606000  2019-05-23   \n",
       "3  1131403417669312512  1131152781136547840  1558582569000  2019-05-23   \n",
       "4  1131403211288375297  1131152781136547840  1558582520000  2019-05-23   \n",
       "\n",
       "       time timezone              user_id         username            name  \\\n",
       "0  14:30:53     AEST   991608430258339840      preqcricket         Prequel   \n",
       "1  13:55:58     AEST  1083685422222401536   nichinichisou1   nichinichisou   \n",
       "2  13:36:46     AEST  1127520860468736001    farah72415842           Farah   \n",
       "3  13:36:09     AEST   962901643212869633  tracies89139325  Tracie Stewart   \n",
       "4  13:35:20     AEST   742181204443570177      addieperle1           Addie   \n",
       "\n",
       "  place  ... retweets_count likes_count location            hashtags  \\\n",
       "0   NaN  ...              0           0      NaN                  []   \n",
       "1   NaN  ...              0           0      NaN  ['#presidentscup']   \n",
       "2   NaN  ...              0           1      NaN                  []   \n",
       "3   NaN  ...              0           1      NaN                  []   \n",
       "4   NaN  ...              0           2      NaN                  []   \n",
       "\n",
       "   cashtags                                               link  retweet  \\\n",
       "0        []  https://twitter.com/PreqCricket/status/1131417...      NaN   \n",
       "1        []  https://twitter.com/nichinichisou1/status/1131...      NaN   \n",
       "2        []  https://twitter.com/Farah72415842/status/11314...      NaN   \n",
       "3        []  https://twitter.com/TracieS89139325/status/113...      NaN   \n",
       "4        []  https://twitter.com/addieperle1/status/1131403...      NaN   \n",
       "\n",
       "                                           quote_url video  \\\n",
       "0                                                NaN     0   \n",
       "1  https://twitter.com/PresidentsCup/status/11312...     0   \n",
       "2                                                NaN     0   \n",
       "3                                                NaN     0   \n",
       "4                                                NaN     0   \n",
       "\n",
       "                                   profile_image_url  \n",
       "0  https://pbs.twimg.com/profile_images/101373811...  \n",
       "1  https://pbs.twimg.com/profile_images/110856177...  \n",
       "2  https://abs.twimg.com/sticky/default_profile_i...  \n",
       "3  https://pbs.twimg.com/profile_images/966175467...  \n",
       "4  https://pbs.twimg.com/profile_images/111876996...  \n",
       "\n",
       "[5 rows x 25 columns]"
      ]
     },
     "execution_count": 477,
     "metadata": {},
     "output_type": "execute_result"
    }
   ],
   "source": [
    "# preview the first 5 rows of the loaded data\n",
    "data.head()"
   ]
  },
  {
   "cell_type": "code",
   "execution_count": 478,
   "metadata": {},
   "outputs": [],
   "source": [
    "# convert the 'date' column into a proper time series format\n",
    "data['date']=pd.to_datetime(data.date)"
   ]
  },
  {
   "cell_type": "code",
   "execution_count": 479,
   "metadata": {},
   "outputs": [
    {
     "data": {
      "text/plain": [
       "(17967, 25)"
      ]
     },
     "execution_count": 479,
     "metadata": {},
     "output_type": "execute_result"
    }
   ],
   "source": [
    "data.shape"
   ]
  },
  {
   "cell_type": "code",
   "execution_count": 480,
   "metadata": {},
   "outputs": [],
   "source": [
    "data.drop_duplicates('id',inplace=True)"
   ]
  },
  {
   "cell_type": "code",
   "execution_count": 481,
   "metadata": {
    "scrolled": true
   },
   "outputs": [
    {
     "data": {
      "text/plain": [
       "(17967, 25)"
      ]
     },
     "execution_count": 481,
     "metadata": {},
     "output_type": "execute_result"
    }
   ],
   "source": [
    "# use the shape method show the number of rows and columns\n",
    "data.shape"
   ]
  },
  {
   "cell_type": "markdown",
   "metadata": {},
   "source": [
    "#### A1: There are 17967 rows and 25 columns"
   ]
  },
  {
   "cell_type": "markdown",
   "metadata": {
    "extensions": {
     "jupyter_dashboards": {
      "version": 1,
      "views": {
       "grid_default": {},
       "report_default": {}
      }
     }
    }
   },
   "source": [
    "#### Q2: What are the top 20 account names by number of likes (`likes_count` column)?"
   ]
  },
  {
   "cell_type": "code",
   "execution_count": 482,
   "metadata": {
    "extensions": {
     "jupyter_dashboards": {
      "version": 1,
      "views": {
       "grid_default": {},
       "report_default": {}
      }
     }
    }
   },
   "outputs": [],
   "source": [
    "# group by username, sum the numbers of likes, Sort by number of likes\n",
    "table1= data.groupby(['username'],as_index=False).agg({'likes_count':'sum'}).\\\n",
    "sort_values(by=['likes_count'],ascending=[False])"
   ]
  },
  {
   "cell_type": "code",
   "execution_count": 483,
   "metadata": {},
   "outputs": [
    {
     "data": {
      "text/plain": [
       "953           australia\n",
       "1193       bhogleharsha\n",
       "8251            tomhall\n",
       "8389     tropical_coast\n",
       "1524          cairnsgbr\n",
       "7793    sunshinecoastoz\n",
       "3414          heronisle\n",
       "2068     dallaskilponen\n",
       "6889        robertirwin\n",
       "6370          phlipvids\n",
       "4344         kathylette\n",
       "8660      visitbrisbane\n",
       "2089     danieljgillies\n",
       "3353          havenlust\n",
       "8679         vogueindia\n",
       "1811        cityofperth\n",
       "5952              norks\n",
       "925        ausoutbacknt\n",
       "8780      westaustralia\n",
       "8730    wandertowondero\n",
       "Name: username, dtype: object"
      ]
     },
     "execution_count": 483,
     "metadata": {},
     "output_type": "execute_result"
    }
   ],
   "source": [
    "# top 20 account names by number of likes\n",
    "table1['username'][:20]"
   ]
  },
  {
   "cell_type": "markdown",
   "metadata": {},
   "source": [
    "#### Q3: What are the top 20 account names by number of retweets (`retweets_count` column)?"
   ]
  },
  {
   "cell_type": "code",
   "execution_count": 484,
   "metadata": {},
   "outputs": [],
   "source": [
    "# group by username, sum the numbers of retweets, Sort by number of retweets\n",
    "table2= data.groupby(['username'],as_index=False).agg({'retweets_count':'sum'}).\\\n",
    "sort_values(by=['retweets_count'],ascending=[False])"
   ]
  },
  {
   "cell_type": "code",
   "execution_count": 485,
   "metadata": {},
   "outputs": [
    {
     "data": {
      "text/html": [
       "<div>\n",
       "<style scoped>\n",
       "    .dataframe tbody tr th:only-of-type {\n",
       "        vertical-align: middle;\n",
       "    }\n",
       "\n",
       "    .dataframe tbody tr th {\n",
       "        vertical-align: top;\n",
       "    }\n",
       "\n",
       "    .dataframe thead th {\n",
       "        text-align: right;\n",
       "    }\n",
       "</style>\n",
       "<table border=\"1\" class=\"dataframe\">\n",
       "  <thead>\n",
       "    <tr style=\"text-align: right;\">\n",
       "      <th></th>\n",
       "      <th>username</th>\n",
       "      <th>retweets_count</th>\n",
       "    </tr>\n",
       "  </thead>\n",
       "  <tbody>\n",
       "    <tr>\n",
       "      <th>953</th>\n",
       "      <td>australia</td>\n",
       "      <td>62701</td>\n",
       "    </tr>\n",
       "    <tr>\n",
       "      <th>8251</th>\n",
       "      <td>tomhall</td>\n",
       "      <td>791</td>\n",
       "    </tr>\n",
       "    <tr>\n",
       "      <th>3414</th>\n",
       "      <td>heronisle</td>\n",
       "      <td>396</td>\n",
       "    </tr>\n",
       "    <tr>\n",
       "      <th>1524</th>\n",
       "      <td>cairnsgbr</td>\n",
       "      <td>324</td>\n",
       "    </tr>\n",
       "    <tr>\n",
       "      <th>8730</th>\n",
       "      <td>wandertowondero</td>\n",
       "      <td>306</td>\n",
       "    </tr>\n",
       "    <tr>\n",
       "      <th>8389</th>\n",
       "      <td>tropical_coast</td>\n",
       "      <td>290</td>\n",
       "    </tr>\n",
       "    <tr>\n",
       "      <th>1193</th>\n",
       "      <td>bhogleharsha</td>\n",
       "      <td>275</td>\n",
       "    </tr>\n",
       "    <tr>\n",
       "      <th>7793</th>\n",
       "      <td>sunshinecoastoz</td>\n",
       "      <td>273</td>\n",
       "    </tr>\n",
       "    <tr>\n",
       "      <th>8660</th>\n",
       "      <td>visitbrisbane</td>\n",
       "      <td>257</td>\n",
       "    </tr>\n",
       "    <tr>\n",
       "      <th>6370</th>\n",
       "      <td>phlipvids</td>\n",
       "      <td>256</td>\n",
       "    </tr>\n",
       "    <tr>\n",
       "      <th>3353</th>\n",
       "      <td>havenlust</td>\n",
       "      <td>233</td>\n",
       "    </tr>\n",
       "    <tr>\n",
       "      <th>2068</th>\n",
       "      <td>dallaskilponen</td>\n",
       "      <td>218</td>\n",
       "    </tr>\n",
       "    <tr>\n",
       "      <th>1141</th>\n",
       "      <td>ben_garrod</td>\n",
       "      <td>207</td>\n",
       "    </tr>\n",
       "    <tr>\n",
       "      <th>1343</th>\n",
       "      <td>bonvoyageurs</td>\n",
       "      <td>195</td>\n",
       "    </tr>\n",
       "    <tr>\n",
       "      <th>925</th>\n",
       "      <td>ausoutbacknt</td>\n",
       "      <td>193</td>\n",
       "    </tr>\n",
       "    <tr>\n",
       "      <th>5952</th>\n",
       "      <td>norks</td>\n",
       "      <td>185</td>\n",
       "    </tr>\n",
       "    <tr>\n",
       "      <th>1811</th>\n",
       "      <td>cityofperth</td>\n",
       "      <td>161</td>\n",
       "    </tr>\n",
       "    <tr>\n",
       "      <th>5673</th>\n",
       "      <td>mtutsamunashe</td>\n",
       "      <td>150</td>\n",
       "    </tr>\n",
       "    <tr>\n",
       "      <th>4394</th>\n",
       "      <td>keithkeller</td>\n",
       "      <td>138</td>\n",
       "    </tr>\n",
       "    <tr>\n",
       "      <th>8780</th>\n",
       "      <td>westaustralia</td>\n",
       "      <td>127</td>\n",
       "    </tr>\n",
       "  </tbody>\n",
       "</table>\n",
       "</div>"
      ],
      "text/plain": [
       "             username  retweets_count\n",
       "953         australia           62701\n",
       "8251          tomhall             791\n",
       "3414        heronisle             396\n",
       "1524        cairnsgbr             324\n",
       "8730  wandertowondero             306\n",
       "8389   tropical_coast             290\n",
       "1193     bhogleharsha             275\n",
       "7793  sunshinecoastoz             273\n",
       "8660    visitbrisbane             257\n",
       "6370        phlipvids             256\n",
       "3353        havenlust             233\n",
       "2068   dallaskilponen             218\n",
       "1141       ben_garrod             207\n",
       "1343     bonvoyageurs             195\n",
       "925      ausoutbacknt             193\n",
       "5952            norks             185\n",
       "1811      cityofperth             161\n",
       "5673    mtutsamunashe             150\n",
       "4394      keithkeller             138\n",
       "8780    westaustralia             127"
      ]
     },
     "execution_count": 485,
     "metadata": {},
     "output_type": "execute_result"
    }
   ],
   "source": [
    "# top 20 account names by number of retweets\n",
    "table2.head(20)"
   ]
  },
  {
   "cell_type": "markdown",
   "metadata": {
    "extensions": {
     "jupyter_dashboards": {
      "version": 1,
      "views": {
       "grid_default": {},
       "report_default": {}
      }
     }
    }
   },
   "source": [
    "#### Q4: Who are the top 20 most active users in terms of tweet activity?\n",
    "\n",
    "By directly looking at these top 20 accounts, what kinds of accounts are they? Are they regular people, organisations, celebrities, or some other type? We are keen to better understand the demographic of Twitter users who are interacting a lot with the client."
   ]
  },
  {
   "cell_type": "code",
   "execution_count": 486,
   "metadata": {
    "extensions": {
     "jupyter_dashboards": {
      "version": 1,
      "views": {
       "grid_default": {},
       "report_default": {}
      }
     }
    }
   },
   "outputs": [
    {
     "data": {
      "text/plain": [
       "australia          445\n",
       "kirbydwagner       266\n",
       "tropical_coast     258\n",
       "greatozgovtweet    141\n",
       "gajphotography     120\n",
       "cjmcginnis          96\n",
       "daisyandrew2017     93\n",
       "phlipvids           93\n",
       "vansieds            89\n",
       "zoehsewell          84\n",
       "osaka79             84\n",
       "whitecrestgor       71\n",
       "johnnyjet           70\n",
       "siamesecattwins     68\n",
       "cvilagos            66\n",
       "bluecrustprod       65\n",
       "yodawondersan       62\n",
       "pickyourtrail       61\n",
       "westaustralia       58\n",
       "over_expos_ed       53\n",
       "Name: username, dtype: int64"
      ]
     },
     "execution_count": 486,
     "metadata": {},
     "output_type": "execute_result"
    }
   ],
   "source": [
    "# top 20 most active users in terms of tweet activity\n",
    "data['username'].value_counts()[:20]"
   ]
  },
  {
   "cell_type": "code",
   "execution_count": 487,
   "metadata": {},
   "outputs": [
    {
     "data": {
      "text/plain": [
       "Text(0.5, 1.0, 'Toop 20 Twitter accounts by tweet activity')"
      ]
     },
     "execution_count": 487,
     "metadata": {},
     "output_type": "execute_result"
    },
    {
     "data": {
      "image/png": "[encoded data removed]",
      "text/plain": [
       "<Figure size 432x288 with 1 Axes>"
      ]
     },
     "metadata": {
      "needs_background": "light"
     },
     "output_type": "display_data"
    }
   ],
   "source": [
    "#plot the top 20 most active users in terms of tweet activity\n",
    "data['username'].value_counts()[:20].plot(kind=\"bar\")\n",
    "\n",
    "plt.xlabel('Twitter users')\n",
    "plt.ylabel('Total activity(number of tweets)')\n",
    "plt.title('Toop 20 Twitter accounts by tweet activity')"
   ]
  },
  {
   "cell_type": "markdown",
   "metadata": {},
   "source": [
    "#### A4:The top 20 active users are mainly official accounts, organisations and celebrities"
   ]
  },
  {
   "cell_type": "markdown",
   "metadata": {
    "extensions": {
     "jupyter_dashboards": {
      "version": 1,
      "views": {
       "grid_default": {},
       "report_default": {}
      }
     }
    }
   },
   "source": [
    "#### Q5: What is the total number of favourites in the dataset?"
   ]
  },
  {
   "cell_type": "code",
   "execution_count": 488,
   "metadata": {
    "extensions": {
     "jupyter_dashboards": {
      "version": 1,
      "views": {
       "grid_default": {},
       "report_default": {}
      }
     }
    }
   },
   "outputs": [
    {
     "data": {
      "text/plain": [
       "382760"
      ]
     },
     "execution_count": 488,
     "metadata": {},
     "output_type": "execute_result"
    }
   ],
   "source": [
    "sum(data.likes_count)"
   ]
  },
  {
   "cell_type": "markdown",
   "metadata": {},
   "source": [
    "#### A5: total number of favourites is 382760 in the dataset."
   ]
  },
  {
   "cell_type": "markdown",
   "metadata": {
    "extensions": {
     "jupyter_dashboards": {
      "version": 1,
      "views": {
       "grid_default": {},
       "report_default": {}
      }
     }
    }
   },
   "source": [
    "#### Q6: What is the total number of retweets in the dataset?"
   ]
  },
  {
   "cell_type": "code",
   "execution_count": 489,
   "metadata": {},
   "outputs": [
    {
     "data": {
      "text/plain": [
       "74005"
      ]
     },
     "execution_count": 489,
     "metadata": {},
     "output_type": "execute_result"
    }
   ],
   "source": [
    "sum(data.retweets_count)"
   ]
  },
  {
   "cell_type": "markdown",
   "metadata": {
    "extensions": {
     "jupyter_dashboards": {
      "version": 1,
      "views": {
       "grid_default": {},
       "report_default": {}
      }
     }
    }
   },
   "source": [
    "#### A6: The total number of retweets is 74005 in the dataset"
   ]
  },
  {
   "cell_type": "markdown",
   "metadata": {
    "extensions": {
     "jupyter_dashboards": {
      "version": 1,
      "views": {
       "grid_default": {},
       "report_default": {}
      }
     }
    }
   },
   "source": [
    "#### Q7: We would like to get a sense of the number of likes across the entire dataset. For instance, what's the average number of likes? What's a large amount of likes for a tweet? Can you help us get a better understanding of this?"
   ]
  },
  {
   "cell_type": "code",
   "execution_count": 490,
   "metadata": {
    "extensions": {
     "jupyter_dashboards": {
      "version": 1,
      "views": {
       "grid_default": {},
       "report_default": {}
      }
     }
    }
   },
   "outputs": [
    {
     "data": {
      "text/html": [
       "<div>\n",
       "<style scoped>\n",
       "    .dataframe tbody tr th:only-of-type {\n",
       "        vertical-align: middle;\n",
       "    }\n",
       "\n",
       "    .dataframe tbody tr th {\n",
       "        vertical-align: top;\n",
       "    }\n",
       "\n",
       "    .dataframe thead th {\n",
       "        text-align: right;\n",
       "    }\n",
       "</style>\n",
       "<table border=\"1\" class=\"dataframe\">\n",
       "  <thead>\n",
       "    <tr style=\"text-align: right;\">\n",
       "      <th></th>\n",
       "      <th>id</th>\n",
       "      <th>conversation_id</th>\n",
       "      <th>created_at</th>\n",
       "      <th>user_id</th>\n",
       "      <th>replies_count</th>\n",
       "      <th>retweets_count</th>\n",
       "      <th>likes_count</th>\n",
       "      <th>location</th>\n",
       "      <th>retweet</th>\n",
       "      <th>video</th>\n",
       "    </tr>\n",
       "  </thead>\n",
       "  <tbody>\n",
       "    <tr>\n",
       "      <th>count</th>\n",
       "      <td>1.796700e+04</td>\n",
       "      <td>1.796700e+04</td>\n",
       "      <td>1.796700e+04</td>\n",
       "      <td>1.796700e+04</td>\n",
       "      <td>17967.000000</td>\n",
       "      <td>17967.000000</td>\n",
       "      <td>17967.000000</td>\n",
       "      <td>0.0</td>\n",
       "      <td>0.0</td>\n",
       "      <td>17967.000000</td>\n",
       "    </tr>\n",
       "    <tr>\n",
       "      <th>mean</th>\n",
       "      <td>1.104719e+18</td>\n",
       "      <td>1.103690e+18</td>\n",
       "      <td>1.552220e+12</td>\n",
       "      <td>3.041649e+17</td>\n",
       "      <td>0.537151</td>\n",
       "      <td>4.118940</td>\n",
       "      <td>21.303501</td>\n",
       "      <td>NaN</td>\n",
       "      <td>NaN</td>\n",
       "      <td>0.035843</td>\n",
       "    </tr>\n",
       "    <tr>\n",
       "      <th>std</th>\n",
       "      <td>1.501609e+16</td>\n",
       "      <td>2.075408e+16</td>\n",
       "      <td>3.580116e+09</td>\n",
       "      <td>4.493682e+17</td>\n",
       "      <td>2.969069</td>\n",
       "      <td>32.596661</td>\n",
       "      <td>155.592716</td>\n",
       "      <td>NaN</td>\n",
       "      <td>NaN</td>\n",
       "      <td>0.185905</td>\n",
       "    </tr>\n",
       "    <tr>\n",
       "      <th>min</th>\n",
       "      <td>1.079893e+18</td>\n",
       "      <td>5.268473e+09</td>\n",
       "      <td>1.546302e+12</td>\n",
       "      <td>9.890000e+02</td>\n",
       "      <td>0.000000</td>\n",
       "      <td>0.000000</td>\n",
       "      <td>0.000000</td>\n",
       "      <td>NaN</td>\n",
       "      <td>NaN</td>\n",
       "      <td>0.000000</td>\n",
       "    </tr>\n",
       "    <tr>\n",
       "      <th>25%</th>\n",
       "      <td>1.091776e+18</td>\n",
       "      <td>1.091136e+18</td>\n",
       "      <td>1.549135e+12</td>\n",
       "      <td>1.902044e+08</td>\n",
       "      <td>0.000000</td>\n",
       "      <td>0.000000</td>\n",
       "      <td>0.000000</td>\n",
       "      <td>NaN</td>\n",
       "      <td>NaN</td>\n",
       "      <td>0.000000</td>\n",
       "    </tr>\n",
       "    <tr>\n",
       "      <th>50%</th>\n",
       "      <td>1.103770e+18</td>\n",
       "      <td>1.103345e+18</td>\n",
       "      <td>1.551994e+12</td>\n",
       "      <td>1.839898e+09</td>\n",
       "      <td>0.000000</td>\n",
       "      <td>0.000000</td>\n",
       "      <td>1.000000</td>\n",
       "      <td>NaN</td>\n",
       "      <td>NaN</td>\n",
       "      <td>0.000000</td>\n",
       "    </tr>\n",
       "    <tr>\n",
       "      <th>75%</th>\n",
       "      <td>1.117528e+18</td>\n",
       "      <td>1.117152e+18</td>\n",
       "      <td>1.555274e+12</td>\n",
       "      <td>8.321288e+17</td>\n",
       "      <td>0.000000</td>\n",
       "      <td>0.000000</td>\n",
       "      <td>2.000000</td>\n",
       "      <td>NaN</td>\n",
       "      <td>NaN</td>\n",
       "      <td>0.000000</td>\n",
       "    </tr>\n",
       "    <tr>\n",
       "      <th>max</th>\n",
       "      <td>1.131417e+18</td>\n",
       "      <td>1.131408e+18</td>\n",
       "      <td>1.558586e+12</td>\n",
       "      <td>1.131070e+18</td>\n",
       "      <td>162.000000</td>\n",
       "      <td>1498.000000</td>\n",
       "      <td>6962.000000</td>\n",
       "      <td>NaN</td>\n",
       "      <td>NaN</td>\n",
       "      <td>1.000000</td>\n",
       "    </tr>\n",
       "  </tbody>\n",
       "</table>\n",
       "</div>"
      ],
      "text/plain": [
       "                 id  conversation_id    created_at       user_id  \\\n",
       "count  1.796700e+04     1.796700e+04  1.796700e+04  1.796700e+04   \n",
       "mean   1.104719e+18     1.103690e+18  1.552220e+12  3.041649e+17   \n",
       "std    1.501609e+16     2.075408e+16  3.580116e+09  4.493682e+17   \n",
       "min    1.079893e+18     5.268473e+09  1.546302e+12  9.890000e+02   \n",
       "25%    1.091776e+18     1.091136e+18  1.549135e+12  1.902044e+08   \n",
       "50%    1.103770e+18     1.103345e+18  1.551994e+12  1.839898e+09   \n",
       "75%    1.117528e+18     1.117152e+18  1.555274e+12  8.321288e+17   \n",
       "max    1.131417e+18     1.131408e+18  1.558586e+12  1.131070e+18   \n",
       "\n",
       "       replies_count  retweets_count   likes_count  location  retweet  \\\n",
       "count   17967.000000    17967.000000  17967.000000       0.0      0.0   \n",
       "mean        0.537151        4.118940     21.303501       NaN      NaN   \n",
       "std         2.969069       32.596661    155.592716       NaN      NaN   \n",
       "min         0.000000        0.000000      0.000000       NaN      NaN   \n",
       "25%         0.000000        0.000000      0.000000       NaN      NaN   \n",
       "50%         0.000000        0.000000      1.000000       NaN      NaN   \n",
       "75%         0.000000        0.000000      2.000000       NaN      NaN   \n",
       "max       162.000000     1498.000000   6962.000000       NaN      NaN   \n",
       "\n",
       "              video  \n",
       "count  17967.000000  \n",
       "mean       0.035843  \n",
       "std        0.185905  \n",
       "min        0.000000  \n",
       "25%        0.000000  \n",
       "50%        0.000000  \n",
       "75%        0.000000  \n",
       "max        1.000000  "
      ]
     },
     "execution_count": 490,
     "metadata": {},
     "output_type": "execute_result"
    }
   ],
   "source": [
    "# the statistical summary of the entire dataset\n",
    "data.describe()"
   ]
  },
  {
   "cell_type": "markdown",
   "metadata": {},
   "source": [
    "#### A7: Above is the statistical summary of the entire dataset. From the information above, we can see that the max number of likes is 6962, the average number of likes is 21.30. "
   ]
  },
  {
   "cell_type": "markdown",
   "metadata": {
    "extensions": {
     "jupyter_dashboards": {
      "version": 1,
      "views": {
       "grid_default": {},
       "report_default": {}
      }
     }
    }
   },
   "source": [
    "#### Q8: What about retweets - can you give us a summary of how many retweets is 'good', and what the average number of retweets is?"
   ]
  },
  {
   "cell_type": "markdown",
   "metadata": {
    "extensions": {
     "jupyter_dashboards": {
      "version": 1,
      "views": {
       "grid_default": {},
       "report_default": {}
      }
     }
    }
   },
   "source": [
    "#### A8: More than 32 retweets is good. The average number of retweets is 4.12."
   ]
  },
  {
   "cell_type": "markdown",
   "metadata": {
    "extensions": {
     "jupyter_dashboards": {
      "version": 1,
      "views": {
       "grid_default": {},
       "report_default": {}
      }
     }
    }
   },
   "source": [
    "#### Q9: We want to know when during the week that our client is receiving the highest engagement.\n",
    "\n",
    "What is the average retweet count for each day of the week, and what can you tell/show us about the results?"
   ]
  },
  {
   "cell_type": "code",
   "execution_count": 491,
   "metadata": {
    "extensions": {
     "jupyter_dashboards": {
      "version": 1,
      "views": {
       "grid_default": {},
       "report_default": {}
      }
     }
    }
   },
   "outputs": [],
   "source": [
    "#create a new column named 'day_of_week'\n",
    "data['day_of_week']= data.date.dt.day_name()"
   ]
  },
  {
   "cell_type": "code",
   "execution_count": 492,
   "metadata": {},
   "outputs": [
    {
     "data": {
      "text/html": [
       "<div>\n",
       "<style scoped>\n",
       "    .dataframe tbody tr th:only-of-type {\n",
       "        vertical-align: middle;\n",
       "    }\n",
       "\n",
       "    .dataframe tbody tr th {\n",
       "        vertical-align: top;\n",
       "    }\n",
       "\n",
       "    .dataframe thead th {\n",
       "        text-align: right;\n",
       "    }\n",
       "</style>\n",
       "<table border=\"1\" class=\"dataframe\">\n",
       "  <thead>\n",
       "    <tr style=\"text-align: right;\">\n",
       "      <th></th>\n",
       "      <th>id</th>\n",
       "      <th>conversation_id</th>\n",
       "      <th>created_at</th>\n",
       "      <th>date</th>\n",
       "      <th>time</th>\n",
       "      <th>timezone</th>\n",
       "      <th>user_id</th>\n",
       "      <th>username</th>\n",
       "      <th>name</th>\n",
       "      <th>place</th>\n",
       "      <th>...</th>\n",
       "      <th>likes_count</th>\n",
       "      <th>location</th>\n",
       "      <th>hashtags</th>\n",
       "      <th>cashtags</th>\n",
       "      <th>link</th>\n",
       "      <th>retweet</th>\n",
       "      <th>quote_url</th>\n",
       "      <th>video</th>\n",
       "      <th>profile_image_url</th>\n",
       "      <th>day_of_week</th>\n",
       "    </tr>\n",
       "  </thead>\n",
       "  <tbody>\n",
       "    <tr>\n",
       "      <th>0</th>\n",
       "      <td>1131417190240903168</td>\n",
       "      <td>1131152781136547840</td>\n",
       "      <td>1558585853000</td>\n",
       "      <td>2019-05-23</td>\n",
       "      <td>14:30:53</td>\n",
       "      <td>AEST</td>\n",
       "      <td>991608430258339840</td>\n",
       "      <td>preqcricket</td>\n",
       "      <td>Prequel</td>\n",
       "      <td>NaN</td>\n",
       "      <td>...</td>\n",
       "      <td>0</td>\n",
       "      <td>NaN</td>\n",
       "      <td>[]</td>\n",
       "      <td>[]</td>\n",
       "      <td>https://twitter.com/PreqCricket/status/1131417...</td>\n",
       "      <td>NaN</td>\n",
       "      <td>NaN</td>\n",
       "      <td>0</td>\n",
       "      <td>https://pbs.twimg.com/profile_images/101373811...</td>\n",
       "      <td>Thursday</td>\n",
       "    </tr>\n",
       "    <tr>\n",
       "      <th>1</th>\n",
       "      <td>1131408404465954817</td>\n",
       "      <td>1131408404465954817</td>\n",
       "      <td>1558583758000</td>\n",
       "      <td>2019-05-23</td>\n",
       "      <td>13:55:58</td>\n",
       "      <td>AEST</td>\n",
       "      <td>1083685422222401536</td>\n",
       "      <td>nichinichisou1</td>\n",
       "      <td>nichinichisou</td>\n",
       "      <td>NaN</td>\n",
       "      <td>...</td>\n",
       "      <td>0</td>\n",
       "      <td>NaN</td>\n",
       "      <td>['#presidentscup']</td>\n",
       "      <td>[]</td>\n",
       "      <td>https://twitter.com/nichinichisou1/status/1131...</td>\n",
       "      <td>NaN</td>\n",
       "      <td>https://twitter.com/PresidentsCup/status/11312...</td>\n",
       "      <td>0</td>\n",
       "      <td>https://pbs.twimg.com/profile_images/110856177...</td>\n",
       "      <td>Thursday</td>\n",
       "    </tr>\n",
       "    <tr>\n",
       "      <th>2</th>\n",
       "      <td>1131403570182467584</td>\n",
       "      <td>1131152781136547840</td>\n",
       "      <td>1558582606000</td>\n",
       "      <td>2019-05-23</td>\n",
       "      <td>13:36:46</td>\n",
       "      <td>AEST</td>\n",
       "      <td>1127520860468736001</td>\n",
       "      <td>farah72415842</td>\n",
       "      <td>Farah</td>\n",
       "      <td>NaN</td>\n",
       "      <td>...</td>\n",
       "      <td>1</td>\n",
       "      <td>NaN</td>\n",
       "      <td>[]</td>\n",
       "      <td>[]</td>\n",
       "      <td>https://twitter.com/Farah72415842/status/11314...</td>\n",
       "      <td>NaN</td>\n",
       "      <td>NaN</td>\n",
       "      <td>0</td>\n",
       "      <td>https://abs.twimg.com/sticky/default_profile_i...</td>\n",
       "      <td>Thursday</td>\n",
       "    </tr>\n",
       "    <tr>\n",
       "      <th>3</th>\n",
       "      <td>1131403417669312512</td>\n",
       "      <td>1131152781136547840</td>\n",
       "      <td>1558582569000</td>\n",
       "      <td>2019-05-23</td>\n",
       "      <td>13:36:09</td>\n",
       "      <td>AEST</td>\n",
       "      <td>962901643212869633</td>\n",
       "      <td>tracies89139325</td>\n",
       "      <td>Tracie Stewart</td>\n",
       "      <td>NaN</td>\n",
       "      <td>...</td>\n",
       "      <td>1</td>\n",
       "      <td>NaN</td>\n",
       "      <td>[]</td>\n",
       "      <td>[]</td>\n",
       "      <td>https://twitter.com/TracieS89139325/status/113...</td>\n",
       "      <td>NaN</td>\n",
       "      <td>NaN</td>\n",
       "      <td>0</td>\n",
       "      <td>https://pbs.twimg.com/profile_images/966175467...</td>\n",
       "      <td>Thursday</td>\n",
       "    </tr>\n",
       "    <tr>\n",
       "      <th>4</th>\n",
       "      <td>1131403211288375297</td>\n",
       "      <td>1131152781136547840</td>\n",
       "      <td>1558582520000</td>\n",
       "      <td>2019-05-23</td>\n",
       "      <td>13:35:20</td>\n",
       "      <td>AEST</td>\n",
       "      <td>742181204443570177</td>\n",
       "      <td>addieperle1</td>\n",
       "      <td>Addie</td>\n",
       "      <td>NaN</td>\n",
       "      <td>...</td>\n",
       "      <td>2</td>\n",
       "      <td>NaN</td>\n",
       "      <td>[]</td>\n",
       "      <td>[]</td>\n",
       "      <td>https://twitter.com/addieperle1/status/1131403...</td>\n",
       "      <td>NaN</td>\n",
       "      <td>NaN</td>\n",
       "      <td>0</td>\n",
       "      <td>https://pbs.twimg.com/profile_images/111876996...</td>\n",
       "      <td>Thursday</td>\n",
       "    </tr>\n",
       "  </tbody>\n",
       "</table>\n",
       "<p>5 rows × 26 columns</p>\n",
       "</div>"
      ],
      "text/plain": [
       "                    id      conversation_id     created_at       date  \\\n",
       "0  1131417190240903168  1131152781136547840  1558585853000 2019-05-23   \n",
       "1  1131408404465954817  1131408404465954817  1558583758000 2019-05-23   \n",
       "2  1131403570182467584  1131152781136547840  1558582606000 2019-05-23   \n",
       "3  1131403417669312512  1131152781136547840  1558582569000 2019-05-23   \n",
       "4  1131403211288375297  1131152781136547840  1558582520000 2019-05-23   \n",
       "\n",
       "       time timezone              user_id         username            name  \\\n",
       "0  14:30:53     AEST   991608430258339840      preqcricket         Prequel   \n",
       "1  13:55:58     AEST  1083685422222401536   nichinichisou1   nichinichisou   \n",
       "2  13:36:46     AEST  1127520860468736001    farah72415842           Farah   \n",
       "3  13:36:09     AEST   962901643212869633  tracies89139325  Tracie Stewart   \n",
       "4  13:35:20     AEST   742181204443570177      addieperle1           Addie   \n",
       "\n",
       "  place  ... likes_count location            hashtags cashtags  \\\n",
       "0   NaN  ...           0      NaN                  []       []   \n",
       "1   NaN  ...           0      NaN  ['#presidentscup']       []   \n",
       "2   NaN  ...           1      NaN                  []       []   \n",
       "3   NaN  ...           1      NaN                  []       []   \n",
       "4   NaN  ...           2      NaN                  []       []   \n",
       "\n",
       "                                                link  retweet  \\\n",
       "0  https://twitter.com/PreqCricket/status/1131417...      NaN   \n",
       "1  https://twitter.com/nichinichisou1/status/1131...      NaN   \n",
       "2  https://twitter.com/Farah72415842/status/11314...      NaN   \n",
       "3  https://twitter.com/TracieS89139325/status/113...      NaN   \n",
       "4  https://twitter.com/addieperle1/status/1131403...      NaN   \n",
       "\n",
       "                                           quote_url  video  \\\n",
       "0                                                NaN      0   \n",
       "1  https://twitter.com/PresidentsCup/status/11312...      0   \n",
       "2                                                NaN      0   \n",
       "3                                                NaN      0   \n",
       "4                                                NaN      0   \n",
       "\n",
       "                                   profile_image_url day_of_week  \n",
       "0  https://pbs.twimg.com/profile_images/101373811...    Thursday  \n",
       "1  https://pbs.twimg.com/profile_images/110856177...    Thursday  \n",
       "2  https://abs.twimg.com/sticky/default_profile_i...    Thursday  \n",
       "3  https://pbs.twimg.com/profile_images/966175467...    Thursday  \n",
       "4  https://pbs.twimg.com/profile_images/111876996...    Thursday  \n",
       "\n",
       "[5 rows x 26 columns]"
      ]
     },
     "execution_count": 492,
     "metadata": {},
     "output_type": "execute_result"
    }
   ],
   "source": [
    "data.head()"
   ]
  },
  {
   "cell_type": "code",
   "execution_count": 493,
   "metadata": {},
   "outputs": [
    {
     "data": {
      "text/plain": [
       "Text(0, 6, 'The day with highest retweets')"
      ]
     },
     "execution_count": 493,
     "metadata": {},
     "output_type": "execute_result"
    },
    {
     "data": {
      "image/png": "[encoded data removed]",
      "text/plain": [
       "<Figure size 720x360 with 1 Axes>"
      ]
     },
     "metadata": {
      "needs_background": "light"
     },
     "output_type": "display_data"
    }
   ],
   "source": [
    "# create new data to get the average retweet count for each day of the week\n",
    "table4=data.groupby(['day_of_week'],as_index=False).agg({'retweets_count':'mean'}).\\\n",
    "sort_values(by='retweets_count',ascending=False)\n",
    "\n",
    "# plot the graph to find the weekday with the highest engagement\n",
    "fig1=plt.figure(figsize=(10,5))\n",
    "plt.bar(x=table4.day_of_week,height=table4.retweets_count,color='deepskyblue')\n",
    "plt.title('Average retweets by day of week')\n",
    "plt.xlabel('Day of week')\n",
    "plt.ylabel('Average retweets count')\n",
    "\n",
    "# add annotation\n",
    "plt.annotate('The day with highest retweets',xy=(0,5),xytext=(0,6),arrowprops=dict(facecolor='tomato'),color='tomato')"
   ]
  },
  {
   "cell_type": "markdown",
   "metadata": {},
   "source": [
    "#### A10: Similarly, on which days are tweets getting the most likes? Is there a pattern we can make sense of?"
   ]
  },
  {
   "cell_type": "code",
   "execution_count": 494,
   "metadata": {},
   "outputs": [
    {
     "data": {
      "text/plain": [
       "Text(0, 30, 'the day with highest likes')"
      ]
     },
     "execution_count": 494,
     "metadata": {},
     "output_type": "execute_result"
    },
    {
     "data": {
      "image/png": "[encoded data removed]",
      "text/plain": [
       "<Figure size 720x360 with 1 Axes>"
      ]
     },
     "metadata": {
      "needs_background": "light"
     },
     "output_type": "display_data"
    }
   ],
   "source": [
    "# create new data to get the average likes count for each day of the week\n",
    "table5=data.groupby(['day_of_week'],as_index=False).agg({'likes_count':'mean'}).\\\n",
    "sort_values(by='likes_count',ascending=False)\n",
    "\n",
    "# plot the graph to find the weekday with the highest engagement\n",
    "fig2=plt.figure(figsize=(10,5))\n",
    "plt.bar(x=table5.day_of_week,height=table5.likes_count,color='deepskyblue')\n",
    "plt.title('Average likes by day of week')\n",
    "plt.xlabel('Day of week')\n",
    "plt.ylabel('Average likes count')\n",
    "\n",
    "# add annotation\n",
    "plt.annotate('the day with highest likes',xy=(0,25),xytext=(0,30),arrowprops=dict(facecolor='tomato'),color='tomato')"
   ]
  },
  {
   "cell_type": "markdown",
   "metadata": {
    "extensions": {
     "jupyter_dashboards": {
      "version": 1,
      "views": {
       "grid_default": {},
       "report_default": {}
      }
     }
    }
   },
   "source": [
    "#### A11: In terms of engagement, what are the top 20 accounts by average number of retweets?"
   ]
  },
  {
   "cell_type": "code",
   "execution_count": 495,
   "metadata": {
    "extensions": {
     "jupyter_dashboards": {
      "version": 1,
      "views": {
       "grid_default": {},
       "report_default": {}
      }
     }
    }
   },
   "outputs": [
    {
     "data": {
      "text/plain": [
       "([0, 1, 2, 3, 4, 5, 6, 7, 8, 9, 10, 11, 12, 13, 14, 15, 16, 17, 18, 19],\n",
       " [Text(0, 0, ''),\n",
       "  Text(0, 0, ''),\n",
       "  Text(0, 0, ''),\n",
       "  Text(0, 0, ''),\n",
       "  Text(0, 0, ''),\n",
       "  Text(0, 0, ''),\n",
       "  Text(0, 0, ''),\n",
       "  Text(0, 0, ''),\n",
       "  Text(0, 0, ''),\n",
       "  Text(0, 0, ''),\n",
       "  Text(0, 0, ''),\n",
       "  Text(0, 0, ''),\n",
       "  Text(0, 0, ''),\n",
       "  Text(0, 0, ''),\n",
       "  Text(0, 0, ''),\n",
       "  Text(0, 0, ''),\n",
       "  Text(0, 0, ''),\n",
       "  Text(0, 0, ''),\n",
       "  Text(0, 0, ''),\n",
       "  Text(0, 0, '')])"
      ]
     },
     "execution_count": 495,
     "metadata": {},
     "output_type": "execute_result"
    },
    {
     "data": {
      "image/png": "[encoded data removed]",
      "text/plain": [
       "<Figure size 1080x360 with 1 Axes>"
      ]
     },
     "metadata": {
      "needs_background": "light"
     },
     "output_type": "display_data"
    }
   ],
   "source": [
    "# creat new data to get the top 20 users with the highest average number of retweets\n",
    "table6= data.groupby(['username'],as_index=False).agg({'retweets_count':'mean'}).\\\n",
    "sort_values(by=['retweets_count'],ascending=[False]).head(20)\n",
    "\n",
    "# plot the graph to show the most popular users\n",
    "fig3=plt.figure(figsize=(15,5))\n",
    "plt.bar(x=table6.username,height=table6.retweets_count,color='deepskyblue')\n",
    "plt.title('The top 20 users by average number of retweets')\n",
    "plt.xlabel('Users')\n",
    "plt.ylabel('Average retweets')\n",
    "plt.xticks(rotation=45)"
   ]
  },
  {
   "cell_type": "markdown",
   "metadata": {
    "extensions": {
     "jupyter_dashboards": {
      "version": 1,
      "views": {
       "grid_default": {},
       "report_default": {}
      }
     }
    }
   },
   "source": [
    "#### A12: What about the top accounts by average number of likes per tweet?"
   ]
  },
  {
   "cell_type": "code",
   "execution_count": 496,
   "metadata": {
    "scrolled": true
   },
   "outputs": [
    {
     "data": {
      "text/plain": [
       "([0, 1, 2, 3, 4, 5, 6, 7, 8, 9, 10, 11, 12, 13, 14, 15, 16, 17, 18, 19],\n",
       " [Text(0, 0, ''),\n",
       "  Text(0, 0, ''),\n",
       "  Text(0, 0, ''),\n",
       "  Text(0, 0, ''),\n",
       "  Text(0, 0, ''),\n",
       "  Text(0, 0, ''),\n",
       "  Text(0, 0, ''),\n",
       "  Text(0, 0, ''),\n",
       "  Text(0, 0, ''),\n",
       "  Text(0, 0, ''),\n",
       "  Text(0, 0, ''),\n",
       "  Text(0, 0, ''),\n",
       "  Text(0, 0, ''),\n",
       "  Text(0, 0, ''),\n",
       "  Text(0, 0, ''),\n",
       "  Text(0, 0, ''),\n",
       "  Text(0, 0, ''),\n",
       "  Text(0, 0, ''),\n",
       "  Text(0, 0, ''),\n",
       "  Text(0, 0, '')])"
      ]
     },
     "execution_count": 496,
     "metadata": {},
     "output_type": "execute_result"
    },
    {
     "data": {
      "image/png": "[encoded data removed]",
      "text/plain": [
       "<Figure size 1080x360 with 1 Axes>"
      ]
     },
     "metadata": {
      "needs_background": "light"
     },
     "output_type": "display_data"
    }
   ],
   "source": [
    "# creat new data to get the top 20 users with the highest average number of likes\n",
    "table7= data.groupby(['username'],as_index=False).agg({'likes_count':'mean'}).\\\n",
    "sort_values(by=['likes_count'],ascending=[False]).head(20)\n",
    "\n",
    "# plot the graph to show the most popular users\n",
    "fig4=plt.figure(figsize=(15,5))\n",
    "plt.bar(x=table7.username,height=table7.likes_count,color='deepskyblue')\n",
    "plt.title('The top 20 users by average number of likes')\n",
    "plt.xlabel('Users')\n",
    "plt.ylabel('Average likes')\n",
    "plt.xticks(rotation=45)"
   ]
  },
  {
   "cell_type": "markdown",
   "metadata": {},
   "source": [
    "#### Q13: We are keen to understand sentiment towards our client.\n",
    "\n",
    "Can you look at the top 20 tweets (either by number of retweets, number of likes, or some combination), and gauge the sentiment of them? Is it mostly positive? How much is negative? What does the contents of the tweets tell us about public opinion towards the brand? What are people talking about?\n",
    "\n",
    "Obviously this will involve you doing some manual analysis of the tweet text and content, but we would love to see any kinds of charts or statistics you can come up with to communicate the results."
   ]
  },
  {
   "cell_type": "code",
   "execution_count": 507,
   "metadata": {},
   "outputs": [
    {
     "data": {
      "text/html": [
       "<div>\n",
       "<style scoped>\n",
       "    .dataframe tbody tr th:only-of-type {\n",
       "        vertical-align: middle;\n",
       "    }\n",
       "\n",
       "    .dataframe tbody tr th {\n",
       "        vertical-align: top;\n",
       "    }\n",
       "\n",
       "    .dataframe thead th {\n",
       "        text-align: right;\n",
       "    }\n",
       "</style>\n",
       "<table border=\"1\" class=\"dataframe\">\n",
       "  <thead>\n",
       "    <tr style=\"text-align: right;\">\n",
       "      <th></th>\n",
       "      <th>id</th>\n",
       "      <th>tweet</th>\n",
       "      <th>likes_count</th>\n",
       "      <th>retweets_count</th>\n",
       "    </tr>\n",
       "  </thead>\n",
       "  <tbody>\n",
       "    <tr>\n",
       "      <th>6074</th>\n",
       "      <td>1112471205531906048</td>\n",
       "      <td>It’s a little-known fact that some #koala joey...</td>\n",
       "      <td>6962</td>\n",
       "      <td>1498</td>\n",
       "    </tr>\n",
       "    <tr>\n",
       "      <th>10832</th>\n",
       "      <td>1098658761898684418</td>\n",
       "      <td>Crikey, what a great way to honour an Aussie l...</td>\n",
       "      <td>6244</td>\n",
       "      <td>1469</td>\n",
       "    </tr>\n",
       "    <tr>\n",
       "      <th>7774</th>\n",
       "      <td>1107118332564525056</td>\n",
       "      <td>❤️ pic.twitter.com/aRafui2wW2</td>\n",
       "      <td>6075</td>\n",
       "      <td>1331</td>\n",
       "    </tr>\n",
       "    <tr>\n",
       "      <th>229</th>\n",
       "      <td>1131152781136547840</td>\n",
       "      <td>RARE SIGHT: Hundreds of post-it notes making t...</td>\n",
       "      <td>4362</td>\n",
       "      <td>939</td>\n",
       "    </tr>\n",
       "    <tr>\n",
       "      <th>12568</th>\n",
       "      <td>1094294903029460992</td>\n",
       "      <td>Kangaroo hopping along a white sand beach? Thi...</td>\n",
       "      <td>2975</td>\n",
       "      <td>800</td>\n",
       "    </tr>\n",
       "    <tr>\n",
       "      <th>5347</th>\n",
       "      <td>1114467942807351299</td>\n",
       "      <td>Just a few (magnificent!) mates enjoying the w...</td>\n",
       "      <td>2569</td>\n",
       "      <td>707</td>\n",
       "    </tr>\n",
       "    <tr>\n",
       "      <th>1181</th>\n",
       "      <td>1128904383113023488</td>\n",
       "      <td>Meanwhile in Australia 😎   This cheeky mob of ...</td>\n",
       "      <td>1961</td>\n",
       "      <td>605</td>\n",
       "    </tr>\n",
       "    <tr>\n",
       "      <th>2703</th>\n",
       "      <td>1123301255663820800</td>\n",
       "      <td>Today is cancelled, go back to bed. 😴   (via @...</td>\n",
       "      <td>3098</td>\n",
       "      <td>537</td>\n",
       "    </tr>\n",
       "    <tr>\n",
       "      <th>8164</th>\n",
       "      <td>1106419383436566528</td>\n",
       "      <td>The selfie game is strong with these two!    @...</td>\n",
       "      <td>2951</td>\n",
       "      <td>530</td>\n",
       "    </tr>\n",
       "    <tr>\n",
       "      <th>13155</th>\n",
       "      <td>1092845396316090373</td>\n",
       "      <td>Hang in there, mate, we’re already halfway thr...</td>\n",
       "      <td>2908</td>\n",
       "      <td>524</td>\n",
       "    </tr>\n",
       "    <tr>\n",
       "      <th>9241</th>\n",
       "      <td>1103158317134856192</td>\n",
       "      <td>Captain Feathersword is a pro at giving the si...</td>\n",
       "      <td>2040</td>\n",
       "      <td>512</td>\n",
       "    </tr>\n",
       "    <tr>\n",
       "      <th>10905</th>\n",
       "      <td>1098522753911738368</td>\n",
       "      <td>“Does this hat make my head look big?” 🐨👒  (ko...</td>\n",
       "      <td>2046</td>\n",
       "      <td>473</td>\n",
       "    </tr>\n",
       "    <tr>\n",
       "      <th>6439</th>\n",
       "      <td>1111206331074179074</td>\n",
       "      <td>This little joey here is perfecting his scratc...</td>\n",
       "      <td>2025</td>\n",
       "      <td>451</td>\n",
       "    </tr>\n",
       "    <tr>\n",
       "      <th>2354</th>\n",
       "      <td>1124683186611470336</td>\n",
       "      <td>Meet one of @Australia’s rarest residents  the...</td>\n",
       "      <td>1378</td>\n",
       "      <td>434</td>\n",
       "    </tr>\n",
       "    <tr>\n",
       "      <th>11245</th>\n",
       "      <td>1097722491886333955</td>\n",
       "      <td>They're small, mischievous, and rather appropr...</td>\n",
       "      <td>1564</td>\n",
       "      <td>423</td>\n",
       "    </tr>\n",
       "    <tr>\n",
       "      <th>5180</th>\n",
       "      <td>1115056721616093191</td>\n",
       "      <td>“Excuse me, but I believe you’re supposed to l...</td>\n",
       "      <td>1943</td>\n",
       "      <td>392</td>\n",
       "    </tr>\n",
       "    <tr>\n",
       "      <th>14391</th>\n",
       "      <td>1089100720543027200</td>\n",
       "      <td>“Ooooh yes!” - Wait for the little wink at the...</td>\n",
       "      <td>1944</td>\n",
       "      <td>379</td>\n",
       "    </tr>\n",
       "    <tr>\n",
       "      <th>12808</th>\n",
       "      <td>1093736215231254530</td>\n",
       "      <td>The land that time forgot 🦖   (via IG/kararose...</td>\n",
       "      <td>1633</td>\n",
       "      <td>365</td>\n",
       "    </tr>\n",
       "    <tr>\n",
       "      <th>12960</th>\n",
       "      <td>1093373808134815744</td>\n",
       "      <td>Name a more Australian image, we’ll wait. 🐨   ...</td>\n",
       "      <td>1483</td>\n",
       "      <td>362</td>\n",
       "    </tr>\n",
       "    <tr>\n",
       "      <th>967</th>\n",
       "      <td>1129513767170072577</td>\n",
       "      <td>🐧 🍺  Happy Hour!  🍺 🐧 #Penguins #FridayFeeling...</td>\n",
       "      <td>1278</td>\n",
       "      <td>356</td>\n",
       "    </tr>\n",
       "  </tbody>\n",
       "</table>\n",
       "</div>"
      ],
      "text/plain": [
       "                        id                                              tweet  \\\n",
       "6074   1112471205531906048  It’s a little-known fact that some #koala joey...   \n",
       "10832  1098658761898684418  Crikey, what a great way to honour an Aussie l...   \n",
       "7774   1107118332564525056                      ❤️ pic.twitter.com/aRafui2wW2   \n",
       "229    1131152781136547840  RARE SIGHT: Hundreds of post-it notes making t...   \n",
       "12568  1094294903029460992  Kangaroo hopping along a white sand beach? Thi...   \n",
       "5347   1114467942807351299  Just a few (magnificent!) mates enjoying the w...   \n",
       "1181   1128904383113023488  Meanwhile in Australia 😎   This cheeky mob of ...   \n",
       "2703   1123301255663820800  Today is cancelled, go back to bed. 😴   (via @...   \n",
       "8164   1106419383436566528  The selfie game is strong with these two!    @...   \n",
       "13155  1092845396316090373  Hang in there, mate, we’re already halfway thr...   \n",
       "9241   1103158317134856192  Captain Feathersword is a pro at giving the si...   \n",
       "10905  1098522753911738368  “Does this hat make my head look big?” 🐨👒  (ko...   \n",
       "6439   1111206331074179074  This little joey here is perfecting his scratc...   \n",
       "2354   1124683186611470336  Meet one of @Australia’s rarest residents  the...   \n",
       "11245  1097722491886333955  They're small, mischievous, and rather appropr...   \n",
       "5180   1115056721616093191  “Excuse me, but I believe you’re supposed to l...   \n",
       "14391  1089100720543027200  “Ooooh yes!” - Wait for the little wink at the...   \n",
       "12808  1093736215231254530  The land that time forgot 🦖   (via IG/kararose...   \n",
       "12960  1093373808134815744  Name a more Australian image, we’ll wait. 🐨   ...   \n",
       "967    1129513767170072577  🐧 🍺  Happy Hour!  🍺 🐧 #Penguins #FridayFeeling...   \n",
       "\n",
       "       likes_count  retweets_count  \n",
       "6074          6962            1498  \n",
       "10832         6244            1469  \n",
       "7774          6075            1331  \n",
       "229           4362             939  \n",
       "12568         2975             800  \n",
       "5347          2569             707  \n",
       "1181          1961             605  \n",
       "2703          3098             537  \n",
       "8164          2951             530  \n",
       "13155         2908             524  \n",
       "9241          2040             512  \n",
       "10905         2046             473  \n",
       "6439          2025             451  \n",
       "2354          1378             434  \n",
       "11245         1564             423  \n",
       "5180          1943             392  \n",
       "14391         1944             379  \n",
       "12808         1633             365  \n",
       "12960         1483             362  \n",
       "967           1278             356  "
      ]
     },
     "execution_count": 507,
     "metadata": {},
     "output_type": "execute_result"
    }
   ],
   "source": [
    "# sort the data by the number of retweets and number of likes\n",
    "data=data.sort_values(['retweets_count','likes_count'],ascending=False)\n",
    "\n",
    "#get the top 20 tweets by the number of retweets and number of likes\n",
    "data_top_20_tweet = data.iloc[:20]\n",
    "\n",
    "#only keep the usefull columns to our new dataframe\n",
    "data_top_20_tweet = data_top_20_tweet[['id','tweet','likes_count','retweets_count']]\n",
    "\n",
    "data_top_20_tweet"
   ]
  },
  {
   "cell_type": "code",
   "execution_count": 508,
   "metadata": {},
   "outputs": [],
   "source": [
    "from vaderSentiment.vaderSentiment import SentimentIntensityAnalyzer\n",
    "\n",
    "analyser = SentimentIntensityAnalyzer()\n",
    "\n",
    "def sentiment_analyzer_scores(sentence): \n",
    "    score = analyser.polarity_scores(sentence) \n",
    "    print(\"{:-<40} {}\".format(sentence, str(score)))"
   ]
  },
  {
   "cell_type": "code",
   "execution_count": 512,
   "metadata": {
    "scrolled": true
   },
   "outputs": [
    {
     "data": {
      "text/html": [
       "<div>\n",
       "<style scoped>\n",
       "    .dataframe tbody tr th:only-of-type {\n",
       "        vertical-align: middle;\n",
       "    }\n",
       "\n",
       "    .dataframe tbody tr th {\n",
       "        vertical-align: top;\n",
       "    }\n",
       "\n",
       "    .dataframe thead th {\n",
       "        text-align: right;\n",
       "    }\n",
       "</style>\n",
       "<table border=\"1\" class=\"dataframe\">\n",
       "  <thead>\n",
       "    <tr style=\"text-align: right;\">\n",
       "      <th></th>\n",
       "      <th>id</th>\n",
       "      <th>tweet</th>\n",
       "      <th>likes_count</th>\n",
       "      <th>retweets_count</th>\n",
       "      <th>compound</th>\n",
       "      <th>neg</th>\n",
       "      <th>neu</th>\n",
       "      <th>pos</th>\n",
       "    </tr>\n",
       "  </thead>\n",
       "  <tbody>\n",
       "    <tr>\n",
       "      <th>6074</th>\n",
       "      <td>1112471205531906048</td>\n",
       "      <td>It’s a little-known fact that some #koala joeys are born with leopard print fur 🐨   We don’t yet know why only certain joeys are blessed with such incredible fashion sense, but we’re sure little April here is the envy of her friends.   #seeaustralia #wildlife #australia pic.twitter.com/FJUDwdRk9E</td>\n",
       "      <td>6962</td>\n",
       "      <td>1498</td>\n",
       "      <td>0.8151</td>\n",
       "      <td>0.048</td>\n",
       "      <td>0.749</td>\n",
       "      <td>0.203</td>\n",
       "    </tr>\n",
       "    <tr>\n",
       "      <th>10832</th>\n",
       "      <td>1098658761898684418</td>\n",
       "      <td>Crikey, what a great way to honour an Aussie legend. Today's #GoogleDoodle features @AustraliaZoo's #SteveIrwin, a legendary zookeeper, conservationist and father 🐊  http://bit.ly/IrwinGoogle  @GoogleDoodles @googledownunder pic.twitter.com/EVdkdN8Fdo</td>\n",
       "      <td>6244</td>\n",
       "      <td>1469</td>\n",
       "      <td>0.8316</td>\n",
       "      <td>0.000</td>\n",
       "      <td>0.755</td>\n",
       "      <td>0.245</td>\n",
       "    </tr>\n",
       "    <tr>\n",
       "      <th>7774</th>\n",
       "      <td>1107118332564525056</td>\n",
       "      <td>❤️ pic.twitter.com/aRafui2wW2</td>\n",
       "      <td>6075</td>\n",
       "      <td>1331</td>\n",
       "      <td>0.0000</td>\n",
       "      <td>0.000</td>\n",
       "      <td>1.000</td>\n",
       "      <td>0.000</td>\n",
       "    </tr>\n",
       "    <tr>\n",
       "      <th>229</th>\n",
       "      <td>1131152781136547840</td>\n",
       "      <td>RARE SIGHT: Hundreds of post-it notes making their way towards #BondiBeach! 😱  (Cownose Rays via IG/dronesharkapp in @sydney_sider)   #seeaustralia #ilovesydney pic.twitter.com/fgB3G1ACNr</td>\n",
       "      <td>4362</td>\n",
       "      <td>939</td>\n",
       "      <td>-0.7263</td>\n",
       "      <td>0.217</td>\n",
       "      <td>0.783</td>\n",
       "      <td>0.000</td>\n",
       "    </tr>\n",
       "    <tr>\n",
       "      <th>12568</th>\n",
       "      <td>1094294903029460992</td>\n",
       "      <td>Kangaroo hopping along a white sand beach? This might just be the most Australian thing you’ll see on your feed today!   (via IG/joanna_pka at @westaustralia’s #LuckyBay) #seeaustralia #justanotherdayinwa pic.twitter.com/lQnkO8aO8d</td>\n",
       "      <td>2975</td>\n",
       "      <td>800</td>\n",
       "      <td>0.0000</td>\n",
       "      <td>0.000</td>\n",
       "      <td>1.000</td>\n",
       "      <td>0.000</td>\n",
       "    </tr>\n",
       "    <tr>\n",
       "      <th>5347</th>\n",
       "      <td>1114467942807351299</td>\n",
       "      <td>Just a few (magnificent!) mates enjoying the weekend. 🐬🐋   (Dolphins and whales via @jaimenhudson in @westaustralia's #Esperence)  #seeaustralia #justanotherdayinwa pic.twitter.com/woTqurUAbv</td>\n",
       "      <td>2569</td>\n",
       "      <td>707</td>\n",
       "      <td>0.8221</td>\n",
       "      <td>0.000</td>\n",
       "      <td>0.715</td>\n",
       "      <td>0.285</td>\n",
       "    </tr>\n",
       "    <tr>\n",
       "      <th>1181</th>\n",
       "      <td>1128904383113023488</td>\n",
       "      <td>Meanwhile in Australia 😎   This cheeky mob of kangaroos decided to join a game of @AFL at Woolgoolga in @NewSouthWales    Video: via IG/northernbeachesblues #seeaustralia #NewSouthWales pic.twitter.com/Byax4vYFIw</td>\n",
       "      <td>1961</td>\n",
       "      <td>605</td>\n",
       "      <td>0.6369</td>\n",
       "      <td>0.000</td>\n",
       "      <td>0.839</td>\n",
       "      <td>0.161</td>\n",
       "    </tr>\n",
       "    <tr>\n",
       "      <th>2703</th>\n",
       "      <td>1123301255663820800</td>\n",
       "      <td>Today is cancelled, go back to bed. 😴   (via @australiazoo on @queensland's @sunshinecoastoz)   #seeaustralia #thisisqueensland pic.twitter.com/F19SO5oY2V</td>\n",
       "      <td>3098</td>\n",
       "      <td>537</td>\n",
       "      <td>-0.2500</td>\n",
       "      <td>0.111</td>\n",
       "      <td>0.889</td>\n",
       "      <td>0.000</td>\n",
       "    </tr>\n",
       "    <tr>\n",
       "      <th>8164</th>\n",
       "      <td>1106419383436566528</td>\n",
       "      <td>The selfie game is strong with these two!    @chrishemsworth got his first #quokka selfie on @westaustralia's @rottnestisland this week, and we're not sure if we've seen a more photogenic duo!   (via #chrishemsworth)  #seeaustralia #justanotherdayinwa pic.twitter.com/qYnsXWccEx</td>\n",
       "      <td>2951</td>\n",
       "      <td>530</td>\n",
       "      <td>0.4445</td>\n",
       "      <td>0.051</td>\n",
       "      <td>0.850</td>\n",
       "      <td>0.100</td>\n",
       "    </tr>\n",
       "    <tr>\n",
       "      <th>13155</th>\n",
       "      <td>1092845396316090373</td>\n",
       "      <td>Hang in there, mate, we’re already halfway through the week 🐨   (Koala Casey via @australiazoo, @queensland) #seeaustralia #thisisqueensland pic.twitter.com/BAaTpE6lKR</td>\n",
       "      <td>2908</td>\n",
       "      <td>524</td>\n",
       "      <td>0.0000</td>\n",
       "      <td>0.000</td>\n",
       "      <td>1.000</td>\n",
       "      <td>0.000</td>\n",
       "    </tr>\n",
       "    <tr>\n",
       "      <th>9241</th>\n",
       "      <td>1103158317134856192</td>\n",
       "      <td>Captain Feathersword is a pro at giving the silent treatment 🤫  Just kidding, this #TawnyFrogmouths isn't annoyed with his koala neighbour, his disinterested expression is just a defence mechanism.  (via @featherdale Wildlife Park in @sydney_sider)  #seeaustralia #ilovesydney pic.twitter.com/duPx1GLaLl</td>\n",
       "      <td>2040</td>\n",
       "      <td>512</td>\n",
       "      <td>0.6580</td>\n",
       "      <td>0.000</td>\n",
       "      <td>0.826</td>\n",
       "      <td>0.174</td>\n",
       "    </tr>\n",
       "    <tr>\n",
       "      <th>10905</th>\n",
       "      <td>1098522753911738368</td>\n",
       "      <td>“Does this hat make my head look big?” 🐨👒  (koala hat via @timswildlife at @austreptilepark, @newsouthwales) #seeaustralia #newsouthwales pic.twitter.com/UwYhpjb7Su</td>\n",
       "      <td>2046</td>\n",
       "      <td>473</td>\n",
       "      <td>0.0000</td>\n",
       "      <td>0.000</td>\n",
       "      <td>1.000</td>\n",
       "      <td>0.000</td>\n",
       "    </tr>\n",
       "    <tr>\n",
       "      <th>6439</th>\n",
       "      <td>1111206331074179074</td>\n",
       "      <td>This little joey here is perfecting his scratching skills and we think he’s almost there! 😉  (via IG/phlipvids at @queensland’s @Rainforestation)  #seeaustralia #thisisqueensland pic.twitter.com/4su7ifUrl6</td>\n",
       "      <td>2025</td>\n",
       "      <td>451</td>\n",
       "      <td>0.5562</td>\n",
       "      <td>0.000</td>\n",
       "      <td>0.870</td>\n",
       "      <td>0.130</td>\n",
       "    </tr>\n",
       "    <tr>\n",
       "      <th>2354</th>\n",
       "      <td>1124683186611470336</td>\n",
       "      <td>Meet one of @Australia’s rarest residents  the Golden Brushtail Possum  🐨 #SaturdayMorning #Travel #StarWarsDay #MayThe4thBeWithYou  https://twitter.com/AMAZlNGNATURE/status/991312380972814336/video/1 …</td>\n",
       "      <td>1378</td>\n",
       "      <td>434</td>\n",
       "      <td>0.0000</td>\n",
       "      <td>0.000</td>\n",
       "      <td>1.000</td>\n",
       "      <td>0.000</td>\n",
       "    </tr>\n",
       "    <tr>\n",
       "      <th>11245</th>\n",
       "      <td>1097722491886333955</td>\n",
       "      <td>They're small, mischievous, and rather appropriately known as 'imps' 😍   (Tassie devils via @tasmania's #wingswildlifepark)   #seeaustralia #discovertasmania pic.twitter.com/VVedMaPFza</td>\n",
       "      <td>1564</td>\n",
       "      <td>423</td>\n",
       "      <td>-0.1779</td>\n",
       "      <td>0.144</td>\n",
       "      <td>0.739</td>\n",
       "      <td>0.117</td>\n",
       "    </tr>\n",
       "    <tr>\n",
       "      <th>5180</th>\n",
       "      <td>1115056721616093191</td>\n",
       "      <td>“Excuse me, but I believe you’re supposed to look at me, not the view.” 😂  (#Quokka via @jamesvodicka on @westaustralia's @RottnestIsland)   #seeaustralia #justanotherdayinwa pic.twitter.com/aXZhEw2QyI</td>\n",
       "      <td>1943</td>\n",
       "      <td>392</td>\n",
       "      <td>0.5927</td>\n",
       "      <td>0.070</td>\n",
       "      <td>0.775</td>\n",
       "      <td>0.155</td>\n",
       "    </tr>\n",
       "    <tr>\n",
       "      <th>14391</th>\n",
       "      <td>1089100720543027200</td>\n",
       "      <td>“Ooooh yes!” - Wait for the little wink at the end 😉   (via #thekangaroosanctuary in @AusOutbackNT) #seeaustralia #ntaustralia pic.twitter.com/nUedqMo5MT</td>\n",
       "      <td>1944</td>\n",
       "      <td>379</td>\n",
       "      <td>0.0000</td>\n",
       "      <td>0.000</td>\n",
       "      <td>1.000</td>\n",
       "      <td>0.000</td>\n",
       "    </tr>\n",
       "    <tr>\n",
       "      <th>12808</th>\n",
       "      <td>1093736215231254530</td>\n",
       "      <td>The land that time forgot 🦖   (via IG/kararosenlund on @newsouthwales' @lordhoweisland) #seeaustralia #newsouthwales pic.twitter.com/xQQbDeWqZH</td>\n",
       "      <td>1633</td>\n",
       "      <td>365</td>\n",
       "      <td>0.0000</td>\n",
       "      <td>0.000</td>\n",
       "      <td>1.000</td>\n",
       "      <td>0.000</td>\n",
       "    </tr>\n",
       "    <tr>\n",
       "      <th>12960</th>\n",
       "      <td>1093373808134815744</td>\n",
       "      <td>Name a more Australian image, we’ll wait. 🐨   (koala via IG/cass_houston in @visitgippsland, Victoria)  #seeaustralia #visitvictoria pic.twitter.com/pnuvqPFLM5</td>\n",
       "      <td>1483</td>\n",
       "      <td>362</td>\n",
       "      <td>0.0000</td>\n",
       "      <td>0.000</td>\n",
       "      <td>1.000</td>\n",
       "      <td>0.000</td>\n",
       "    </tr>\n",
       "    <tr>\n",
       "      <th>967</th>\n",
       "      <td>1129513767170072577</td>\n",
       "      <td>🐧 🍺  Happy Hour!  🍺 🐧 #Penguins #FridayFeeling  via @Australia pls follow    pic.twitter.com/dIWsWesJTJ</td>\n",
       "      <td>1278</td>\n",
       "      <td>356</td>\n",
       "      <td>0.6476</td>\n",
       "      <td>0.000</td>\n",
       "      <td>0.711</td>\n",
       "      <td>0.289</td>\n",
       "    </tr>\n",
       "  </tbody>\n",
       "</table>\n",
       "</div>"
      ],
      "text/plain": [
       "                        id  \\\n",
       "6074   1112471205531906048   \n",
       "10832  1098658761898684418   \n",
       "7774   1107118332564525056   \n",
       "229    1131152781136547840   \n",
       "12568  1094294903029460992   \n",
       "5347   1114467942807351299   \n",
       "1181   1128904383113023488   \n",
       "2703   1123301255663820800   \n",
       "8164   1106419383436566528   \n",
       "13155  1092845396316090373   \n",
       "9241   1103158317134856192   \n",
       "10905  1098522753911738368   \n",
       "6439   1111206331074179074   \n",
       "2354   1124683186611470336   \n",
       "11245  1097722491886333955   \n",
       "5180   1115056721616093191   \n",
       "14391  1089100720543027200   \n",
       "12808  1093736215231254530   \n",
       "12960  1093373808134815744   \n",
       "967    1129513767170072577   \n",
       "\n",
       "                                                                                                                                                                                                                                                                                                                 tweet  \\\n",
       "6074         It’s a little-known fact that some #koala joeys are born with leopard print fur 🐨   We don’t yet know why only certain joeys are blessed with such incredible fashion sense, but we’re sure little April here is the envy of her friends.   #seeaustralia #wildlife #australia pic.twitter.com/FJUDwdRk9E   \n",
       "10832                                                      Crikey, what a great way to honour an Aussie legend. Today's #GoogleDoodle features @AustraliaZoo's #SteveIrwin, a legendary zookeeper, conservationist and father 🐊  http://bit.ly/IrwinGoogle  @GoogleDoodles @googledownunder pic.twitter.com/EVdkdN8Fdo   \n",
       "7774                                                                                                                                                                                                                                                                                     ❤️ pic.twitter.com/aRafui2wW2   \n",
       "229                                                                                                                        RARE SIGHT: Hundreds of post-it notes making their way towards #BondiBeach! 😱  (Cownose Rays via IG/dronesharkapp in @sydney_sider)   #seeaustralia #ilovesydney pic.twitter.com/fgB3G1ACNr   \n",
       "12568                                                                          Kangaroo hopping along a white sand beach? This might just be the most Australian thing you’ll see on your feed today!   (via IG/joanna_pka at @westaustralia’s #LuckyBay) #seeaustralia #justanotherdayinwa pic.twitter.com/lQnkO8aO8d   \n",
       "5347                                                                                                                   Just a few (magnificent!) mates enjoying the weekend. 🐬🐋   (Dolphins and whales via @jaimenhudson in @westaustralia's #Esperence)  #seeaustralia #justanotherdayinwa pic.twitter.com/woTqurUAbv   \n",
       "1181                                                                                              Meanwhile in Australia 😎   This cheeky mob of kangaroos decided to join a game of @AFL at Woolgoolga in @NewSouthWales    Video: via IG/northernbeachesblues #seeaustralia #NewSouthWales pic.twitter.com/Byax4vYFIw   \n",
       "2703                                                                                                                                                        Today is cancelled, go back to bed. 😴   (via @australiazoo on @queensland's @sunshinecoastoz)   #seeaustralia #thisisqueensland pic.twitter.com/F19SO5oY2V   \n",
       "8164                            The selfie game is strong with these two!    @chrishemsworth got his first #quokka selfie on @westaustralia's @rottnestisland this week, and we're not sure if we've seen a more photogenic duo!   (via #chrishemsworth)  #seeaustralia #justanotherdayinwa pic.twitter.com/qYnsXWccEx   \n",
       "13155                                                                                                                                          Hang in there, mate, we’re already halfway through the week 🐨   (Koala Casey via @australiazoo, @queensland) #seeaustralia #thisisqueensland pic.twitter.com/BAaTpE6lKR   \n",
       "9241   Captain Feathersword is a pro at giving the silent treatment 🤫  Just kidding, this #TawnyFrogmouths isn't annoyed with his koala neighbour, his disinterested expression is just a defence mechanism.  (via @featherdale Wildlife Park in @sydney_sider)  #seeaustralia #ilovesydney pic.twitter.com/duPx1GLaLl   \n",
       "10905                                                                                                                                             “Does this hat make my head look big?” 🐨👒  (koala hat via @timswildlife at @austreptilepark, @newsouthwales) #seeaustralia #newsouthwales pic.twitter.com/UwYhpjb7Su   \n",
       "6439                                                                                                     This little joey here is perfecting his scratching skills and we think he’s almost there! 😉  (via IG/phlipvids at @queensland’s @Rainforestation)  #seeaustralia #thisisqueensland pic.twitter.com/4su7ifUrl6   \n",
       "2354                                                                                                        Meet one of @Australia’s rarest residents  the Golden Brushtail Possum  🐨 #SaturdayMorning #Travel #StarWarsDay #MayThe4thBeWithYou  https://twitter.com/AMAZlNGNATURE/status/991312380972814336/video/1 …   \n",
       "11245                                                                                                                         They're small, mischievous, and rather appropriately known as 'imps' 😍   (Tassie devils via @tasmania's #wingswildlifepark)   #seeaustralia #discovertasmania pic.twitter.com/VVedMaPFza   \n",
       "5180                                                                                                         “Excuse me, but I believe you’re supposed to look at me, not the view.” 😂  (#Quokka via @jamesvodicka on @westaustralia's @RottnestIsland)   #seeaustralia #justanotherdayinwa pic.twitter.com/aXZhEw2QyI   \n",
       "14391                                                                                                                                                        “Ooooh yes!” - Wait for the little wink at the end 😉   (via #thekangaroosanctuary in @AusOutbackNT) #seeaustralia #ntaustralia pic.twitter.com/nUedqMo5MT   \n",
       "12808                                                                                                                                                                  The land that time forgot 🦖   (via IG/kararosenlund on @newsouthwales' @lordhoweisland) #seeaustralia #newsouthwales pic.twitter.com/xQQbDeWqZH   \n",
       "12960                                                                                                                                                  Name a more Australian image, we’ll wait. 🐨   (koala via IG/cass_houston in @visitgippsland, Victoria)  #seeaustralia #visitvictoria pic.twitter.com/pnuvqPFLM5   \n",
       "967                                                                                                                                                                                                            🐧 🍺  Happy Hour!  🍺 🐧 #Penguins #FridayFeeling  via @Australia pls follow    pic.twitter.com/dIWsWesJTJ   \n",
       "\n",
       "       likes_count  retweets_count  compound    neg    neu    pos  \n",
       "6074          6962            1498    0.8151  0.048  0.749  0.203  \n",
       "10832         6244            1469    0.8316  0.000  0.755  0.245  \n",
       "7774          6075            1331    0.0000  0.000  1.000  0.000  \n",
       "229           4362             939   -0.7263  0.217  0.783  0.000  \n",
       "12568         2975             800    0.0000  0.000  1.000  0.000  \n",
       "5347          2569             707    0.8221  0.000  0.715  0.285  \n",
       "1181          1961             605    0.6369  0.000  0.839  0.161  \n",
       "2703          3098             537   -0.2500  0.111  0.889  0.000  \n",
       "8164          2951             530    0.4445  0.051  0.850  0.100  \n",
       "13155         2908             524    0.0000  0.000  1.000  0.000  \n",
       "9241          2040             512    0.6580  0.000  0.826  0.174  \n",
       "10905         2046             473    0.0000  0.000  1.000  0.000  \n",
       "6439          2025             451    0.5562  0.000  0.870  0.130  \n",
       "2354          1378             434    0.0000  0.000  1.000  0.000  \n",
       "11245         1564             423   -0.1779  0.144  0.739  0.117  \n",
       "5180          1943             392    0.5927  0.070  0.775  0.155  \n",
       "14391         1944             379    0.0000  0.000  1.000  0.000  \n",
       "12808         1633             365    0.0000  0.000  1.000  0.000  \n",
       "12960         1483             362    0.0000  0.000  1.000  0.000  \n",
       "967           1278             356    0.6476  0.000  0.711  0.289  "
      ]
     },
     "execution_count": 512,
     "metadata": {},
     "output_type": "execute_result"
    }
   ],
   "source": [
    "#create 4 columns of the scores 'positive', 'negative', 'neutral' and 'compound' \n",
    "data_top_20_tweet['compound']=[analyser.polarity_scores(x)['compound'] for x in data_top_20_tweet['tweet']]\n",
    "data_top_20_tweet['neg'] = [analyser.polarity_scores(x)['neg'] for x in data_top_20_tweet['tweet']]\n",
    "data_top_20_tweet['neu'] = [analyser.polarity_scores(x)['neu'] for x in data_top_20_tweet['tweet']]\n",
    "data_top_20_tweet['pos'] = [analyser.polarity_scores(x)['pos'] for x in data_top_20_tweet['tweet']]\n",
    "\n",
    "# show the full text (not truncated)\n",
    "pd.set_option('display.max_colwidth', None)\n",
    "\n",
    "data_top_20_tweet"
   ]
  },
  {
   "cell_type": "code",
   "execution_count": 513,
   "metadata": {},
   "outputs": [
    {
     "data": {
      "text/plain": [
       "count    20.000000\n",
       "mean      0.242525\n",
       "std       0.434881\n",
       "min      -0.726300\n",
       "25%       0.000000\n",
       "50%       0.000000\n",
       "75%       0.639575\n",
       "max       0.831600\n",
       "Name: compound, dtype: float64"
      ]
     },
     "execution_count": 513,
     "metadata": {},
     "output_type": "execute_result"
    }
   ],
   "source": [
    "# descriptive statistics of the sentiment scores\n",
    "data_top_20_tweet['compound'].describe()"
   ]
  },
  {
   "cell_type": "code",
   "execution_count": 514,
   "metadata": {},
   "outputs": [
    {
     "data": {
      "text/plain": [
       "9"
      ]
     },
     "execution_count": 514,
     "metadata": {},
     "output_type": "execute_result"
    }
   ],
   "source": [
    "# how many positive tweets in top20 tweets\n",
    "len(data_top_20_tweet[data_top_20_tweet['compound']>0] )"
   ]
  },
  {
   "cell_type": "code",
   "execution_count": 515,
   "metadata": {},
   "outputs": [
    {
     "data": {
      "text/plain": [
       "3"
      ]
     },
     "execution_count": 515,
     "metadata": {},
     "output_type": "execute_result"
    }
   ],
   "source": [
    "# how many negative tweets in top20 tweets\n",
    "len(data_top_20_tweet[data_top_20_tweet['compound']<0] )"
   ]
  },
  {
   "cell_type": "code",
   "execution_count": 517,
   "metadata": {},
   "outputs": [
    {
     "data": {
      "text/plain": [
       "8"
      ]
     },
     "execution_count": 517,
     "metadata": {},
     "output_type": "execute_result"
    }
   ],
   "source": [
    "# how many with a score zero in top20 tweets\n",
    "len(data_top_20_tweet[data_top_20_tweet['compound']==0] )"
   ]
  },
  {
   "cell_type": "markdown",
   "metadata": {},
   "source": [
    "#### A13: \n",
    "- By analysing the sentiment of the tweets, we can see that of the 20 most active tweets, 9 are positive, 3 are negative and the remaining 8 have a score of 0；\n",
    "- It was found that positive sentiment is more than negative sentiment, which shows that the majority of the public prefer the content of these tweets \n",
    "- However, the negative opinions are more valuable than the positive for brand，by manual analyzing the 3 negative tweet, they are found not to be really negative，the tweets contain Word ambiguity and Multipolarity.\n",
    "- These top 20 most active tweets discussing Australia's weather, environment, wildlife and tourism"
   ]
  },
  {
   "cell_type": "markdown",
   "metadata": {
    "extensions": {
     "jupyter_dashboards": {
      "version": 1,
      "views": {
       "grid_default": {},
       "report_default": {}
      }
     }
    }
   },
   "source": [
    "## Conclusion\n",
    "\n",
    "#### Findings\n",
    "\n",
    "- By analysing the total number of likes and retweets, total number of tweet sent by users, we got the top 20 visible users and top 20 active users, most of whom are official accounts, organisations and celebrities, the first of both as User ‘Australia’;\n",
    "- By analysing the average of likes and retweets, we get different most active users, with the first user ‘Australia’ dropping to third place and fifth place; and the 20 most active users have many more individual users\n",
    "- By analysing the number of most active weekdays by likes and retweets, the chart clearly shows that the most active day of the week is Wednesday;\n",
    "- By analysing the sentiment of the tweets, then manual analysing the negative tweets, The analysis clearly shows that the majority of the tweets are positive，which means the majority of the public prefer the content of these tweets \n",
    "-These top 20 most active tweets  are mainly in the form of storytelling about the weather in Australia Australia's weather, environment, wildlife and tourism\n",
    "\n",
    "#### Recommendation:\n",
    "\n",
    "- Increasing interaction with active users by liking, replying to and retweeting content from the most active users whenever possible. \n",
    "- Posting Tweets on Wednesdays maximise the chance to get more engagement, seek more attention and avoid unnecessary distractions \n",
    "- Posting story-based tweets through each update and connection to show followers what the brand wants to communicate\n",
    "- if the users contained in this dataset voluntarily agree to participate;\n",
    "- The real user name in the data may be harmful to the user and has privacy implications, we recommend encryption measures\n",
    "- It is recommended that some incentive be given to users who are included in the data to ensure a fair distribution of benefits"
   ]
  },
  {
   "cell_type": "code",
   "execution_count": null,
   "metadata": {},
   "outputs": [],
   "source": []
  }
 ],
 "metadata": {
  "extensions": {
   "jupyter_dashboards": {
    "activeView": "grid_default",
    "version": 1,
    "views": {
     "grid_default": {
      "cellMargin": 10,
      "defaultCellHeight": 20,
      "maxColumns": 12,
      "name": "grid",
      "type": "grid"
     },
     "report_default": {
      "name": "report",
      "type": "report"
     }
    }
   }
  },
  "kernelspec": {
   "display_name": "Python 3 (ipykernel)",
   "language": "python",
   "name": "python3"
  },
  "language_info": {
   "codemirror_mode": {
    "name": "ipython",
    "version": 3
   },
   "file_extension": ".py",
   "mimetype": "text/x-python",
   "name": "python",
   "nbconvert_exporter": "python",
   "pygments_lexer": "ipython3",
   "version": "3.9.12"
  }
 },
 "nbformat": 4,
 "nbformat_minor": 2
}
